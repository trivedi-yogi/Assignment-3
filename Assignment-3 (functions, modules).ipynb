{
 "cells": [
  {
   "cell_type": "markdown",
   "id": "5a233679",
   "metadata": {},
   "source": [
    "# Question 1\n",
    "Game of \"Functions\""
   ]
  },
  {
   "cell_type": "code",
   "execution_count": 12,
   "id": "b46d2cff",
   "metadata": {},
   "outputs": [
    {
     "data": {
      "text/plain": [
       "20"
      ]
     },
     "execution_count": 12,
     "metadata": {},
     "output_type": "execute_result"
    }
   ],
   "source": [
    "# Write a Python function to sum all the numbers in a list.\n",
    "\n",
    "def sum_of_list_elements(list1):\n",
    "    total = 0\n",
    "    for i in list1:\n",
    "        total += i\n",
    "    return total\n",
    "\n",
    "sample_list = [8, 2, 3, 0, 7]\n",
    "sum_of_list_elements(sample_list)"
   ]
  },
  {
   "cell_type": "markdown",
   "id": "3dec72da",
   "metadata": {},
   "source": [
    "# Question 2\n",
    "String inside the function"
   ]
  },
  {
   "cell_type": "code",
   "execution_count": 19,
   "id": "e827c0e2",
   "metadata": {},
   "outputs": [
    {
     "data": {
      "text/plain": [
       "'era uoy ereht dcba4321'"
      ]
     },
     "execution_count": 19,
     "metadata": {},
     "output_type": "execute_result"
    }
   ],
   "source": [
    "# Write a Python program to reverse a string.\n",
    "\n",
    "def reverse(string):\n",
    "    str1 = \"\"\n",
    "    for i in string:\n",
    "        str1 = i + str1\n",
    "    return str1\n",
    "\n",
    "reverse('1234abcd there you are')"
   ]
  },
  {
   "cell_type": "markdown",
   "id": "0c719770",
   "metadata": {},
   "source": [
    "# Question 3\n",
    "Calculate the Upper and The lower Case"
   ]
  },
  {
   "cell_type": "code",
   "execution_count": 18,
   "id": "951e3413",
   "metadata": {},
   "outputs": [
    {
     "name": "stdout",
     "output_type": "stream",
     "text": [
      "Hello there! How Are You?\n",
      "No of Upper case characters:: 4\n",
      "No of lower case characters:: 15\n"
     ]
    }
   ],
   "source": [
    "# Write a Python function that accepts a string and calculate the number of upper case letters and lower case letters.\n",
    "\n",
    "def upper_lower(str2):\n",
    "    upper = 0\n",
    "    lower = 0\n",
    "    for i in str2:\n",
    "        if i.isalpha():\n",
    "            if i.isupper():\n",
    "                upper += 1\n",
    "            else:\n",
    "                lower += 1\n",
    "    print(\"No of Upper case characters::\",upper)\n",
    "    print(\"No of lower case characters::\",lower)\n",
    "\n",
    "string = input()\n",
    "upper_lower(string)"
   ]
  },
  {
   "cell_type": "code",
   "execution_count": null,
   "id": "8e20cb17",
   "metadata": {},
   "outputs": [],
   "source": []
  }
 ],
 "metadata": {
  "kernelspec": {
   "display_name": "Python 3",
   "language": "python",
   "name": "python3"
  },
  "language_info": {
   "codemirror_mode": {
    "name": "ipython",
    "version": 3
   },
   "file_extension": ".py",
   "mimetype": "text/x-python",
   "name": "python",
   "nbconvert_exporter": "python",
   "pygments_lexer": "ipython3",
   "version": "3.8.8"
  }
 },
 "nbformat": 4,
 "nbformat_minor": 5
}
